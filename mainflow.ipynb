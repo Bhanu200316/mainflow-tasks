{
 "cells": [
  {
   "cell_type": "code",
   "execution_count": 15,
   "id": "9ad89fba-d637-4108-b4e2-5affb0c93aa9",
   "metadata": {},
   "outputs": [
    {
     "name": "stdout",
     "output_type": "stream",
     "text": [
      "30\n",
      "10\n",
      "200\n",
      "2.0\n"
     ]
    }
   ],
   "source": [
    "#Arithmetic Operations:\n",
    "x=20\n",
    "y=10\n",
    "sum=x+y\n",
    "sub=x-y\n",
    "mul=x*y\n",
    "division=x/y\n",
    "print(sum)\n",
    "print(sub)\n",
    "print(mul)\n",
    "print(division)\n"
   ]
  },
  {
   "cell_type": "code",
   "execution_count": 17,
   "id": "ae410d50-fcf3-4e10-a983-713039838420",
   "metadata": {},
   "outputs": [
    {
     "name": "stdout",
     "output_type": "stream",
     "text": [
      "<class 'complex'>\n"
     ]
    }
   ],
   "source": [
    "#Data types\n",
    "num=5+2j\n",
    "print(type(num))"
   ]
  },
  {
   "cell_type": "code",
   "execution_count": 19,
   "id": "6095d99b-097c-438b-84e8-6b65198885db",
   "metadata": {},
   "outputs": [
    {
     "name": "stdout",
     "output_type": "stream",
     "text": [
      "<class 'str'>\n"
     ]
    }
   ],
   "source": [
    "stg=\"learn python\"\n",
    "print(type(stg))"
   ]
  },
  {
   "cell_type": "code",
   "execution_count": 21,
   "id": "36613b24-5e5c-41ea-9529-ff80c81dfc8d",
   "metadata": {},
   "outputs": [
    {
     "name": "stdout",
     "output_type": "stream",
     "text": [
      "<class 'list'>\n"
     ]
    }
   ],
   "source": [
    "x=[(1,2,3,0.9)]\n",
    "print(type(x))"
   ]
  },
  {
   "cell_type": "code",
   "execution_count": 25,
   "id": "2686b913-ed67-4241-8cf4-2dbef8a34678",
   "metadata": {},
   "outputs": [
    {
     "name": "stdin",
     "output_type": "stream",
     "text": [
      "Enter a multiple of 7:  41\n",
      "Enter a multiple of 7:  36\n",
      "Enter a multiple of 7:  14\n"
     ]
    },
    {
     "name": "stdout",
     "output_type": "stream",
     "text": [
      "14 is a multiple of 7\n"
     ]
    }
   ],
   "source": [
    "#loops\n",
    "#while loop\n",
    "val = int(input(\"Enter a multiple of 7: \"))\n",
    "while val % 7 != 0:\n",
    "    val = int(input(\"Enter a multiple of 7: \"))\n",
    "print(f\"{val} is a multiple of 7\")\n"
   ]
  },
  {
   "cell_type": "code",
   "execution_count": 27,
   "id": "c36396be-5fc6-436a-90c9-fb341ab93d7f",
   "metadata": {},
   "outputs": [
    {
     "name": "stdout",
     "output_type": "stream",
     "text": [
      "1\n",
      "6\n",
      "learn\n"
     ]
    }
   ],
   "source": [
    "#for loop\n",
    "x=[1,6,\"learn\"]\n",
    "for i in x:\n",
    "    print(i)\n",
    "    "
   ]
  },
  {
   "cell_type": "code",
   "execution_count": 33,
   "id": "9ecb5f1f-a248-4483-be90-52f85f256ffe",
   "metadata": {},
   "outputs": [
    {
     "name": "stdout",
     "output_type": "stream",
     "text": [
      "Outer loop iteration1\n",
      "Inner loop iteration1\n",
      "(i,j)=(1,1)\n",
      "\n",
      "Inner loop iteration1\n",
      "(i,j)=(1,2)\n",
      "\n",
      "Inner loop iteration1\n",
      "(i,j)=(1,3)\n",
      "\n",
      "Outer loop iteration2\n",
      "Inner loop iteration2\n",
      "(i,j)=(2,1)\n",
      "\n",
      "Inner loop iteration2\n",
      "(i,j)=(2,2)\n",
      "\n",
      "Inner loop iteration2\n",
      "(i,j)=(2,3)\n",
      "\n",
      "Outer loop iteration3\n",
      "Inner loop iteration3\n",
      "(i,j)=(3,1)\n",
      "\n",
      "Inner loop iteration3\n",
      "(i,j)=(3,2)\n",
      "\n",
      "Inner loop iteration3\n",
      "(i,j)=(3,3)\n",
      "\n"
     ]
    }
   ],
   "source": [
    "#nested loop\n",
    "for i in range(1,4):\n",
    "    print(f\"Outer loop iteration{i}\")\n",
    "    for j in range(1,4):\n",
    "        print(f\"Inner loop iteration{i}\")\n",
    "        print(f\"(i,j)=({i},{j})\")\n",
    "        print()\n",
    "        "
   ]
  },
  {
   "cell_type": "code",
   "execution_count": 37,
   "id": "9ac7eda8-fc26-4105-96fb-5f6c2d2940c5",
   "metadata": {},
   "outputs": [
    {
     "name": "stdout",
     "output_type": "stream",
     "text": [
      "The sum is: 10\n",
      "The sum is: 30\n",
      "The sum is: 60\n",
      "The sum is: 100\n",
      "The sum is: 150\n"
     ]
    }
   ],
   "source": [
    "#functions\n",
    "def add(*a):\n",
    "    total=0\n",
    "    for i in a :\n",
    "        total=total+i\n",
    "        print(\"The sum is:\",total)\n",
    "\n",
    "add(10,20,30,40,50)"
   ]
  },
  {
   "cell_type": "code",
   "execution_count": null,
   "id": "824e27cc-ce17-4701-9062-cb03c0a4a198",
   "metadata": {},
   "outputs": [],
   "source": []
  }
 ],
 "metadata": {
  "kernelspec": {
   "display_name": "Python 3 (ipykernel)",
   "language": "python",
   "name": "python3"
  },
  "language_info": {
   "codemirror_mode": {
    "name": "ipython",
    "version": 3
   },
   "file_extension": ".py",
   "mimetype": "text/x-python",
   "name": "python",
   "nbconvert_exporter": "python",
   "pygments_lexer": "ipython3",
   "version": "3.12.4"
  }
 },
 "nbformat": 4,
 "nbformat_minor": 5
}
